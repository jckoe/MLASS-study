{
 "cells": [
  {
   "cell_type": "code",
   "execution_count": 1,
   "id": "e4120d20",
   "metadata": {},
   "outputs": [],
   "source": [
    "import pandas as pd\n",
    "import pickle\n",
    "import matplotlib.pyplot as plt\n",
    "import seaborn as sns\n",
    "import sklearn\n",
    "from sklearn.utils import shuffle\n",
    "from sklearn.model_selection import StratifiedKFold\n",
    "from scipy import io\n",
    "import scipy.stats as ss\n",
    "import numpy as np\n",
    "import random\n",
    "from collections import Counter\n",
    "import csv"
   ]
  },
  {
   "cell_type": "code",
   "execution_count": 2,
   "id": "dd164cbb",
   "metadata": {
    "scrolled": true
   },
   "outputs": [],
   "source": [
    "def divide_chunks(l, n):\n",
    "    # looping till length l\n",
    "    for i in range(0, len(l), n):\n",
    "        yield l[i:i + n]\n",
    "\n",
    "def dyad_permutation(dyad_df,n_fold):\n",
    "    dyad_id = list(dyad_df.Dyad.unique())\n",
    "    dyad_dict = {}\n",
    "    # map the dyad_id to subject id\n",
    "    for d in dyad_id:\n",
    "        dyad_pair = dyad_df.loc[dyad_df.Dyad==d]\n",
    "        dyad_dict[d] = list(dyad_pair.index)\n",
    "    # partition size according to the folds\n",
    "    parts = int(len(dyad_id)/n_fold)\n",
    "    dyad_permute = shuffle(dyad_id)\n",
    "    # get the dyad id in each fold\n",
    "    \n",
    "    permute_partitions = list(divide_chunks(dyad_permute,parts))\n",
    "    trainInd = []\n",
    "    testInd = []\n",
    "    # convert dyad it into subject index\n",
    "    for p in permute_partitions:\n",
    "        test_ind = []\n",
    "        for d in p:\n",
    "            test_ind += dyad_dict[d]\n",
    "        # train index\n",
    "        train_ind = list(dyad_df.loc[~dyad_df.index.isin(test_ind)].index)\n",
    "        testInd.append(test_ind)\n",
    "        trainInd.append(train_ind)\n",
    "    return trainInd,testInd\n",
    "\n",
    "def dyad_permutation_stratified(dyad_df,n_fold):\n",
    "    dyad_simp = dyad_df.drop_duplicates(subset=['Dyad'])\n",
    "    dyad_simp = dyad_simp.sort_values(by='Dyad',ascending=True)\n",
    "    dyad_id = list(dyad_simp.Dyad)\n",
    "    dyad_label = list(dyad_simp.Label)\n",
    "    dyad_dict = {}\n",
    "    # map the dyad_id to subject id\n",
    "    for d in dyad_id:\n",
    "        dyad_pair = dyad_df.loc[dyad_df.Dyad==d]\n",
    "        dyad_dict[d] = list(dyad_pair.index)\n",
    "    # define the splitter\n",
    "    kfold = StratifiedKFold(n_splits=n_fold,shuffle=True)\n",
    "    # get the dyad id in each fold\n",
    "    trainInd = []\n",
    "    testInd = []\n",
    "    trainLabel = []\n",
    "    testLabel = []\n",
    "    for train, test in kfold.split(dyad_id,dyad_label):\n",
    "        train_ind = []\n",
    "        test_ind = []\n",
    "        for tr in train:\n",
    "            train_ind += dyad_dict[dyad_id[tr]]\n",
    "        for ts in test:\n",
    "            test_ind += dyad_dict[dyad_id[ts]]\n",
    "        train_labels = list(dyad_df.loc[dyad_df.index.isin(train_ind)].Label)    \n",
    "        test_labels = list(dyad_df.loc[dyad_df.index.isin(test_ind)].Label)\n",
    "        one_count = test_labels.count(1)\n",
    "        if one_count == len(test_labels):\n",
    "            print (test_labels)\n",
    "        trainInd.append(train_ind)\n",
    "        testInd.append(test_ind)\n",
    "        trainLabel.append(train_labels)\n",
    "        testLabel.append(test_labels)\n",
    "    return trainInd,testInd,trainLabel,testLabel"
   ]
  },
  {
   "cell_type": "markdown",
   "id": "65963073",
   "metadata": {},
   "source": [
    "### Load data"
   ]
  },
  {
   "cell_type": "code",
   "execution_count": 3,
   "id": "7106730b",
   "metadata": {},
   "outputs": [],
   "source": [
    "folder = 'path/to/your/directory/'\n",
    "nm_structure = 'NM_struct_totalmove.mat'\n",
    "nm = io.loadmat(folder+nm_structure)\n",
    "dyad_file = folder + 'dyad_membership_individual.xlsx'\n",
    "output_file = folder + "
   ]
  },
  {
   "cell_type": "code",
   "execution_count": null,
   "id": "4f2d9685",
   "metadata": {},
   "outputs": [],
   "source": [
    "dyad_df = pd.read_excel(dyad_file,engine='openpyxl')\n",
    "# set index to start with 1 to be compatible with matlab\n",
    "dyad_df.index += 1 \n",
    "#dyad_df.head()"
   ]
  },
  {
   "cell_type": "markdown",
   "id": "37263777",
   "metadata": {},
   "source": [
    "**Label encoding**<br>\n",
    "1: ASD, 2: TD"
   ]
  },
  {
   "cell_type": "markdown",
   "id": "6a8c408f",
   "metadata": {},
   "source": [
    "### Set CV structure"
   ]
  },
  {
   "cell_type": "code",
   "execution_count": 6,
   "id": "114e301e",
   "metadata": {},
   "outputs": [],
   "source": [
    "cv2 = 11\n",
    "p2 = 10\n",
    "cv1 = 10\n",
    "p1 = 1"
   ]
  },
  {
   "cell_type": "code",
   "execution_count": 7,
   "id": "e8453d05",
   "metadata": {},
   "outputs": [
    {
     "name": "stdout",
     "output_type": "stream",
     "text": [
      "save cv2\n",
      "(10, 11, 80)\n",
      "(10, 11, 8)\n",
      "save cv1\n",
      "(10, 11)\n"
     ]
    }
   ],
   "source": [
    "cv2_train = []\n",
    "cv2_test = []\n",
    "cv2_train_label = []\n",
    "cv2_test_label = []\n",
    "cv1_all = []\n",
    "cv1_labels = []\n",
    "\n",
    "for p in range(p2):\n",
    "    train2,test2,train_label2,test_label2 = dyad_permutation_stratified(dyad_df,cv2)\n",
    "    cv2_train.append(train2)\n",
    "    cv2_test.append(test2)\n",
    "    cv2_train_label.append(train_label2)\n",
    "    cv2_test_label.append(test_label2)\n",
    "    \n",
    "    cv1_col = []\n",
    "    for t in train2:\n",
    "        df_temp = dyad_df.loc[dyad_df.index.isin(t)]\n",
    "        df_temp = df_temp.reset_index()\n",
    "        df_temp.index += 1 \n",
    "        #display(df_temp.head())\n",
    "        cv1_dict = {}\n",
    "        cv1_tr = []\n",
    "        cv1_ts = []\n",
    "        cv1_tr_label = []\n",
    "        cv1_ts_label = []\n",
    "        \n",
    "        for p_in in range(p1):\n",
    "            train1,test1,train_label1,test_label1 = dyad_permutation_stratified(df_temp,cv1)\n",
    "            cv1_tr.append(train1)\n",
    "            cv1_ts.append(test1)\n",
    "            cv1_tr_label.append(train_label1)\n",
    "            cv1_ts_label.append(test_label1)\n",
    "        cv1_dict['TrainInd'] = cv1_tr\n",
    "        cv1_dict['TestInd'] = cv1_ts\n",
    "        cv1_dict['TrainLabel'] = cv1_tr_label\n",
    "        cv1_dict['TestLabel'] = cv1_ts_label\n",
    "        cv1_col.append(cv1_dict)\n",
    "        \n",
    "    cv1_all.append(cv1_col)\n",
    "cv1_all = np.array(cv1_all)\n",
    "cv2_train = np.array(cv2_train)\n",
    "cv2_test = np.array(cv2_test)\n",
    "\n",
    "print ('save cv2')\n",
    "io.savemat(folder+'TrainInd.mat', {'Train_cv2_raw': cv2_train})\n",
    "io.savemat(folder+'TestInd.mat', {'Test_cv2_raw': cv2_test})\n",
    "io.savemat(folder+'TrainLabel.mat', {'Train_cv2_label': cv2_train_label})\n",
    "io.savemat(folder+'TestLabel.mat', {'Test_cv2_label': cv2_test_label})\n",
    "print (cv2_train.shape)\n",
    "print (cv2_test.shape)\n",
    "\n",
    "print ('save cv1')\n",
    "print (cv1_all.shape)\n",
    "io.savemat(folder+'cvin.mat', {'cv1_all': cv1_all})"
   ]
  }
 ],
 "metadata": {
  "kernelspec": {
   "display_name": "Python 3",
   "language": "python",
   "name": "python3"
  },
  "language_info": {
   "codemirror_mode": {
    "name": "ipython",
    "version": 3
   },
   "file_extension": ".py",
   "mimetype": "text/x-python",
   "name": "python",
   "nbconvert_exporter": "python",
   "pygments_lexer": "ipython3",
   "version": "3.6.13"
  }
 },
 "nbformat": 4,
 "nbformat_minor": 5
}
